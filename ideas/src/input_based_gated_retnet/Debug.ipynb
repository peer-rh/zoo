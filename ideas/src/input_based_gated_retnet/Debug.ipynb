{
 "cells": [
  {
   "cell_type": "code",
   "execution_count": 130,
   "id": "47482a94",
   "metadata": {},
   "outputs": [],
   "source": [
    "from dataclasses import dataclass\n",
    "from typing import List\n",
    "\n",
    "import equinox as eqx\n",
    "import jax\n",
    "import jax.numpy as jnp\n",
    "from equinox import nn\n",
    "\n",
    "from xpos import apply_xpos\n",
    "\n",
    "# TODO: Create option for default decay as benchmark\n",
    "\n",
    "\n",
    "# Potential Performance Bottlenecks:\n",
    "# - Einsum and transpositions\n",
    "# - Application of XPos (How much is recomputed every time)\n",
    "# - Using Tiled like like FlashAttention\n",
    "\n",
    "\n",
    "@dataclass\n",
    "class RetNetConfig:\n",
    "    n_layers: int = 3\n",
    "    d_model: int = 512\n",
    "    n_heads: int = 8\n",
    "    d_ff: int = 2048\n",
    "    n_vocab: int = 10000\n",
    "    dropout_prob: float = 0.1\n",
    "\n",
    "    qkv_bias: bool = False\n",
    "\n",
    "    @property\n",
    "    def d_head(self):\n",
    "        return self.d_model // self.n_heads\n",
    "\n",
    "\n",
    "class GatedMultiScaleRetention(eqx.Module):\n",
    "    qkv: nn.Linear\n",
    "    alpha: nn.Linear\n",
    "    config: RetNetConfig = eqx.field(static=True)\n",
    "\n",
    "    out: nn.Linear\n",
    "    g_norm: nn.GroupNorm\n",
    "    gate: nn.Linear\n",
    "\n",
    "    def __init__(self, config: RetNetConfig, key):\n",
    "        super().__init__()\n",
    "        qkv_key, alpha_key, out_key, gate_key = jax.random.split(key, 4)\n",
    "        self.config = config\n",
    "        self.qkv = nn.Linear(\n",
    "            config.d_model, 3 * config.d_model, use_bias=config.qkv_bias, key=qkv_key\n",
    "        )\n",
    "        self.alpha = nn.Linear(\n",
    "            config.d_model, self.config.n_heads, use_bias=False, key=alpha_key\n",
    "        )\n",
    "        self.g_norm = nn.GroupNorm(self.config.n_heads, self.config.d_model )\n",
    "        self.out = nn.Linear(\n",
    "            config.d_model, config.d_model, use_bias=False, key=out_key\n",
    "        )\n",
    "        self.gate = nn.Linear(\n",
    "            config.d_model, config.d_model, use_bias=False, key=gate_key\n",
    "        )\n",
    "\n",
    "    def retention(self, q, k, v, alphas, state):\n",
    "        sqlen = alphas.shape[1]\n",
    "        k = (1 - jnp.exp(alphas))[:, :, None] * k\n",
    "        alphas = jnp.cumsum(alphas, axis=1)\n",
    "        Delta = jnp.tril(jnp.exp(alphas[:, :, None] - alphas[:, None, :]))\n",
    "        # TODO: check performance difference, if using current transpositions\n",
    "        attn = jnp.einsum(\"hid,hjd,hij->hij\", q, k, Delta)\n",
    "        ret = jnp.einsum(\"hij,hje->ihe\", attn, v)\n",
    "        new_state = None\n",
    "        if state is not None:\n",
    "            new_state = jnp.exp(alphas[:, -1, None, None]) * state\n",
    "            ret = ret + jnp.einsum(\"hid, hde, hi->ihe\", q, state, jnp.exp(alphas))\n",
    "            new_state = new_state + jnp.einsum(\n",
    "                \"hid, hie, hi->hde\", k, v, Delta[:, -1, :]\n",
    "            )\n",
    "        ret = ret.reshape(sqlen, self.config.d_model)\n",
    "        return ret, new_state\n",
    "\n",
    "    def _log_sigmoid(self, x):\n",
    "        # Computes ln(sigmoid(x))\n",
    "        return -jnp.log1p(jnp.exp(-x))\n",
    "\n",
    "    def __call__(self, x, state=None, offset=0):\n",
    "        # x: (sqlen, d_model)\n",
    "        # state: (n_heads, d_head, d_head)\n",
    "        sqlen = x.shape[0]\n",
    "        # retention with gated hidden propagation\n",
    "        q, k, v = (\n",
    "            jax.vmap(self.qkv)(x)\n",
    "            .reshape(sqlen, 3, self.config.n_heads, self.config.d_head)\n",
    "            .transpose((1, 2, 0, 3))\n",
    "        )\n",
    "        q = jax.vmap(lambda x: apply_xpos(x, offtset))(q)\n",
    "        k = jax.vmap(lambda x: apply_xpos(x, offset, inv=True))(k)\n",
    "        alphas = self._log_sigmoid(jax.vmap(self.alpha)(x)).T  # (n_heads, sqlen)\n",
    "        # TODO: Remove this later\n",
    "        alphas = jnp.maximum(alphas, -0.1)\n",
    "        ret, new_state = self.retention(q, k, v, alphas, state)\n",
    "\n",
    "        # gated hidden propagation\n",
    "        ret = jax.vmap(self.g_norm)(ret)\n",
    "        out = jax.vmap(self.out)(jax.nn.swish(jax.vmap(self.gate)(ret)) * ret)\n",
    "\n",
    "        return out, new_state\n"
   ]
  },
  {
   "cell_type": "code",
   "execution_count": 131,
   "id": "9ba39659",
   "metadata": {
    "scrolled": true
   },
   "outputs": [
    {
     "ename": "NameError",
     "evalue": "name 'offtset' is not defined",
     "output_type": "error",
     "traceback": [
      "\u001b[0;31m---------------------------------------------------------------------------\u001b[0m",
      "\u001b[0;31mNameError\u001b[0m                                 Traceback (most recent call last)",
      "Cell \u001b[0;32mIn[131], line 4\u001b[0m\n\u001b[1;32m      2\u001b[0m model \u001b[38;5;241m=\u001b[39m GatedMultiScaleRetention(config, key\u001b[38;5;241m=\u001b[39mjax\u001b[38;5;241m.\u001b[39mrandom\u001b[38;5;241m.\u001b[39mPRNGKey(\u001b[38;5;241m0\u001b[39m))\n\u001b[1;32m      3\u001b[0m x \u001b[38;5;241m=\u001b[39m jax\u001b[38;5;241m.\u001b[39mrandom\u001b[38;5;241m.\u001b[39mnormal(jax\u001b[38;5;241m.\u001b[39mrandom\u001b[38;5;241m.\u001b[39mPRNGKey(\u001b[38;5;241m0\u001b[39m), (\u001b[38;5;241m512\u001b[39m, config\u001b[38;5;241m.\u001b[39md_model))\n\u001b[0;32m----> 4\u001b[0m out_par, _ \u001b[38;5;241m=\u001b[39m model(x)\n\u001b[1;32m      6\u001b[0m state \u001b[38;5;241m=\u001b[39m jnp\u001b[38;5;241m.\u001b[39mzeros((config\u001b[38;5;241m.\u001b[39mn_heads, config\u001b[38;5;241m.\u001b[39md_head, config\u001b[38;5;241m.\u001b[39md_head))\n\u001b[1;32m      7\u001b[0m \u001b[38;5;28;01mdef\u001b[39;00m \u001b[38;5;21mstep\u001b[39m(carry, x):\n",
      "Cell \u001b[0;32mIn[130], line 95\u001b[0m, in \u001b[0;36mGatedMultiScaleRetention.__call__\u001b[0;34m(self, x, state, offset)\u001b[0m\n\u001b[1;32m     89\u001b[0m \u001b[38;5;66;03m# retention with gated hidden propagation\u001b[39;00m\n\u001b[1;32m     90\u001b[0m q, k, v \u001b[38;5;241m=\u001b[39m (\n\u001b[1;32m     91\u001b[0m     jax\u001b[38;5;241m.\u001b[39mvmap(\u001b[38;5;28mself\u001b[39m\u001b[38;5;241m.\u001b[39mqkv)(x)\n\u001b[1;32m     92\u001b[0m     \u001b[38;5;241m.\u001b[39mreshape(sqlen, \u001b[38;5;241m3\u001b[39m, \u001b[38;5;28mself\u001b[39m\u001b[38;5;241m.\u001b[39mconfig\u001b[38;5;241m.\u001b[39mn_heads, \u001b[38;5;28mself\u001b[39m\u001b[38;5;241m.\u001b[39mconfig\u001b[38;5;241m.\u001b[39md_head)\n\u001b[1;32m     93\u001b[0m     \u001b[38;5;241m.\u001b[39mtranspose((\u001b[38;5;241m1\u001b[39m, \u001b[38;5;241m2\u001b[39m, \u001b[38;5;241m0\u001b[39m, \u001b[38;5;241m3\u001b[39m))\n\u001b[1;32m     94\u001b[0m )\n\u001b[0;32m---> 95\u001b[0m q \u001b[38;5;241m=\u001b[39m jax\u001b[38;5;241m.\u001b[39mvmap(\u001b[38;5;28;01mlambda\u001b[39;00m x: apply_xpos(x, offtset))(q)\n\u001b[1;32m     96\u001b[0m k \u001b[38;5;241m=\u001b[39m jax\u001b[38;5;241m.\u001b[39mvmap(\u001b[38;5;28;01mlambda\u001b[39;00m x: apply_xpos(x, offset, inv\u001b[38;5;241m=\u001b[39m\u001b[38;5;28;01mTrue\u001b[39;00m))(k)\n\u001b[1;32m     97\u001b[0m alphas \u001b[38;5;241m=\u001b[39m \u001b[38;5;28mself\u001b[39m\u001b[38;5;241m.\u001b[39m_log_sigmoid(jax\u001b[38;5;241m.\u001b[39mvmap(\u001b[38;5;28mself\u001b[39m\u001b[38;5;241m.\u001b[39malpha)(x))\u001b[38;5;241m.\u001b[39mT  \u001b[38;5;66;03m# (n_heads, sqlen)\u001b[39;00m\n",
      "    \u001b[0;31m[... skipping hidden 3 frame]\u001b[0m\n",
      "Cell \u001b[0;32mIn[130], line 95\u001b[0m, in \u001b[0;36mGatedMultiScaleRetention.__call__.<locals>.<lambda>\u001b[0;34m(x)\u001b[0m\n\u001b[1;32m     89\u001b[0m \u001b[38;5;66;03m# retention with gated hidden propagation\u001b[39;00m\n\u001b[1;32m     90\u001b[0m q, k, v \u001b[38;5;241m=\u001b[39m (\n\u001b[1;32m     91\u001b[0m     jax\u001b[38;5;241m.\u001b[39mvmap(\u001b[38;5;28mself\u001b[39m\u001b[38;5;241m.\u001b[39mqkv)(x)\n\u001b[1;32m     92\u001b[0m     \u001b[38;5;241m.\u001b[39mreshape(sqlen, \u001b[38;5;241m3\u001b[39m, \u001b[38;5;28mself\u001b[39m\u001b[38;5;241m.\u001b[39mconfig\u001b[38;5;241m.\u001b[39mn_heads, \u001b[38;5;28mself\u001b[39m\u001b[38;5;241m.\u001b[39mconfig\u001b[38;5;241m.\u001b[39md_head)\n\u001b[1;32m     93\u001b[0m     \u001b[38;5;241m.\u001b[39mtranspose((\u001b[38;5;241m1\u001b[39m, \u001b[38;5;241m2\u001b[39m, \u001b[38;5;241m0\u001b[39m, \u001b[38;5;241m3\u001b[39m))\n\u001b[1;32m     94\u001b[0m )\n\u001b[0;32m---> 95\u001b[0m q \u001b[38;5;241m=\u001b[39m jax\u001b[38;5;241m.\u001b[39mvmap(\u001b[38;5;28;01mlambda\u001b[39;00m x: apply_xpos(x, offtset))(q)\n\u001b[1;32m     96\u001b[0m k \u001b[38;5;241m=\u001b[39m jax\u001b[38;5;241m.\u001b[39mvmap(\u001b[38;5;28;01mlambda\u001b[39;00m x: apply_xpos(x, offset, inv\u001b[38;5;241m=\u001b[39m\u001b[38;5;28;01mTrue\u001b[39;00m))(k)\n\u001b[1;32m     97\u001b[0m alphas \u001b[38;5;241m=\u001b[39m \u001b[38;5;28mself\u001b[39m\u001b[38;5;241m.\u001b[39m_log_sigmoid(jax\u001b[38;5;241m.\u001b[39mvmap(\u001b[38;5;28mself\u001b[39m\u001b[38;5;241m.\u001b[39malpha)(x))\u001b[38;5;241m.\u001b[39mT  \u001b[38;5;66;03m# (n_heads, sqlen)\u001b[39;00m\n",
      "\u001b[0;31mNameError\u001b[0m: name 'offtset' is not defined"
     ]
    }
   ],
   "source": [
    "config = RetNetConfig()\n",
    "model = GatedMultiScaleRetention(config, key=jax.random.PRNGKey(0))\n",
    "x = jax.random.normal(jax.random.PRNGKey(0), (512, config.d_model))\n",
    "out_par, _ = model(x)\n",
    "\n",
    "state = jnp.zeros((config.n_heads, config.d_head, config.d_head))\n",
    "def step(carry, x):\n",
    "    offset, state = carry\n",
    "    print(carry)\n",
    "    out, state = model(x, state, offset)\n",
    "    return (offset + x.shape[0], state), out\n",
    "_, out_state = jax.lax.scan(step, (0, state), x.reshape(-1, 32, x.shape[1]))\n",
    "out_state= jnp.concatenate(out_state, 0)\n",
    "jnp.allclose(out_par, out_state, rtol=1e-5, atol=1e-5)"
   ]
  },
  {
   "cell_type": "code",
   "execution_count": 126,
   "id": "f0fc9c20",
   "metadata": {},
   "outputs": [
    {
     "data": {
      "text/plain": [
       "Array([[ 1.4901161e-08,  1.8626451e-08, -2.9802322e-08, ...,\n",
       "         4.4703484e-08, -5.9604645e-08, -3.7252903e-08],\n",
       "       [-8.9406967e-07, -2.0489097e-06,  7.7486038e-07, ...,\n",
       "         2.0861626e-07, -5.5879354e-07, -4.1723251e-07],\n",
       "       [-1.1920929e-07,  5.2154064e-07, -2.3841858e-07, ...,\n",
       "         1.1203811e-06,  7.8976154e-07, -1.2665987e-06],\n",
       "       ...,\n",
       "       [ 6.1773658e-03, -6.3019544e-03,  2.2490025e-03, ...,\n",
       "         1.0824859e-02, -9.2112720e-03,  1.3393670e-02],\n",
       "       [-3.9237771e-02,  6.9474578e-03, -6.1702318e-03, ...,\n",
       "         6.1135683e-03,  6.4724609e-03, -3.0900389e-03],\n",
       "       [ 1.1473164e-02, -1.9829683e-02, -1.4270589e-02, ...,\n",
       "        -1.6920269e-03, -2.9850755e-02,  1.9137338e-03]], dtype=float32)"
      ]
     },
     "execution_count": 126,
     "metadata": {},
     "output_type": "execute_result"
    }
   ],
   "source": [
    "out_par - out_state"
   ]
  },
  {
   "cell_type": "code",
   "execution_count": 125,
   "id": "5b5e65e5",
   "metadata": {},
   "outputs": [
    {
     "data": {
      "text/plain": [
       "Array([[-0.14186686, -0.00680654,  0.21672498, ..., -0.186696  ,\n",
       "         0.24205342,  0.06239263],\n",
       "       [ 0.2874918 ,  0.11358412,  0.19276801, ..., -0.15703425,\n",
       "        -0.01847184,  0.14338523],\n",
       "       [-0.32975903,  0.00915347,  0.15077922, ..., -0.00605613,\n",
       "        -0.18553996, -0.11542879],\n",
       "       ...,\n",
       "       [-0.10695693, -0.15468043, -0.28115785, ..., -0.17218846,\n",
       "         0.39642835, -0.13879995],\n",
       "       [-0.07091648, -0.10998802,  0.04637381, ...,  0.01161928,\n",
       "        -0.00144088, -0.08938757],\n",
       "       [-0.00057597, -0.11536033, -0.23001441, ...,  0.15028474,\n",
       "        -0.09224696, -0.05306967]], dtype=float32)"
      ]
     },
     "execution_count": 125,
     "metadata": {},
     "output_type": "execute_result"
    }
   ],
   "source": [
    "out_par"
   ]
  },
  {
   "cell_type": "code",
   "execution_count": null,
   "id": "e0222f97",
   "metadata": {},
   "outputs": [],
   "source": []
  }
 ],
 "metadata": {
  "kernelspec": {
   "display_name": "Python 3 (ipykernel)",
   "language": "python",
   "name": "python3"
  },
  "language_info": {
   "codemirror_mode": {
    "name": "ipython",
    "version": 3
   },
   "file_extension": ".py",
   "mimetype": "text/x-python",
   "name": "python",
   "nbconvert_exporter": "python",
   "pygments_lexer": "ipython3",
   "version": "3.11.4"
  }
 },
 "nbformat": 4,
 "nbformat_minor": 5
}
